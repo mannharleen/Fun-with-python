{
 "cells": [
  {
   "cell_type": "code",
   "execution_count": 1,
   "metadata": {
    "collapsed": true
   },
   "outputs": [],
   "source": [
    "import cx_Oracle\n",
    "import pandas as pd\n",
    "import sys"
   ]
  },
  {
   "cell_type": "code",
   "execution_count": 30,
   "metadata": {
    "collapsed": false
   },
   "outputs": [],
   "source": [
    "ip_uat = '172.18.20.70:/FSCLIVE'\n",
    "ip_live = '172.18.20.140:/FSCLIVE'\n",
    "def selectfunc( ip_for = ip_uat, \\\n",
    "               verbose = 0, \\\n",
    "               entity = ['FSCGKK','FSCGKL','FSCGMH','FSCGPG','FSCPHA','FSCPHAK','FSCPHBP','FSCPHC','FSCPHI','FSCPHK','FSCPHKL',\\\n",
    "          'FSCPHM','FSCPHP','FSCPHSP'] \\\n",
    "              ):\n",
    "    df = pd.DataFrame()\n",
    "    for i in range(0,len(entity)):\n",
    "        con = cx_Oracle.connect(entity[i], '<put password here>', ip_uat)\n",
    "        if verbose == 1:\n",
    "            print 'Connection successful to ', entity[i], ' '\n",
    "        cur = con.cursor()\n",
    "        #cur.execute('select * from gnuser')\n",
    "        #cur.execute(\"select to_char(discharge_datetime,'rrrr-mm') from fdepisode fe\") \n",
    "        cur.execute(\"select gl.acc_period, gga.GLACCOUNT_DESCRIPTION, sum(decode(dc_marker,'D',amount,-amount)) AMOUNT from gl_post_full gl, gnglaccount gga, journalentry je, boepisodeaccounttxn beat, gnchargeitem gci where gl.account_code = gga.glaccount_code and to_number(gl.filler2) = je.journalentry_id and je.BOEPISODEACCOUNTTXN_ID = beat.BOEPISODEACCOUNTTXN_ID  and beat.GNTXNCODE_ID = gci.GNTXNCODE_ID and gci.CHARGE_GROUP <> '2' and journal_type = 'HISR' and account_code like '1406%' and acc_period >= '2016001' group by gl.acc_period, gga.GLACCOUNT_DESCRIPTION\")\n",
    "        curdescription = pd.Series(cur.description)\n",
    "        df_temp = pd.DataFrame(cur.fetchall(),columns=curdescription.apply(lambda x: x[0]))\n",
    "        df_temp['Entity'] = entity[i][3:]\n",
    "        df = df.append(df_temp)\n",
    "\n",
    "    df = df[df.columns.tolist()[-1:] + df.columns.tolist()[:-1]]\n",
    "    cur.close()\n",
    "    con.close()\n",
    "    return df"
   ]
  },
  {
   "cell_type": "code",
   "execution_count": 31,
   "metadata": {
    "collapsed": false,
    "scrolled": true
   },
   "outputs": [
    {
     "name": "stdout",
     "output_type": "stream",
     "text": [
      "Connection successful to  FSCGKK  \n",
      "Connection successful to  FSCGKL  \n",
      "Connection successful to  FSCGMH  \n",
      "Connection successful to  FSCGPG  \n",
      "Connection successful to  FSCPHA  \n",
      "Connection successful to  FSCPHAK  \n",
      "Connection successful to  FSCPHBP  \n",
      "Connection successful to  FSCPHC  \n",
      "Connection successful to  FSCPHI  \n"
     ]
    },
    {
     "ename": "OperationalError",
     "evalue": "ORA-03113: end-of-file on communication channel\nProcess ID: 45932\nSession ID: 2207 Serial number: 5579\n",
     "output_type": "error",
     "traceback": [
      "\u001b[0;31m---------------------------------------------------------------------------\u001b[0m",
      "\u001b[0;31mOperationalError\u001b[0m                          Traceback (most recent call last)",
      "\u001b[0;32m<ipython-input-31-36051303a9c2>\u001b[0m in \u001b[0;36m<module>\u001b[0;34m()\u001b[0m\n\u001b[1;32m      2\u001b[0m \u001b[1;31m## df = selectfunc(ip, verbose)\u001b[0m\u001b[1;33m\u001b[0m\u001b[1;33m\u001b[0m\u001b[0m\n\u001b[1;32m      3\u001b[0m \u001b[1;33m\u001b[0m\u001b[0m\n\u001b[0;32m----> 4\u001b[0;31m \u001b[0mdf\u001b[0m \u001b[1;33m=\u001b[0m \u001b[0mselectfunc\u001b[0m\u001b[1;33m(\u001b[0m\u001b[0mip_live\u001b[0m\u001b[1;33m,\u001b[0m\u001b[1;36m1\u001b[0m\u001b[1;33m)\u001b[0m\u001b[1;33m\u001b[0m\u001b[0m\n\u001b[0m\u001b[1;32m      5\u001b[0m \u001b[0mdf\u001b[0m\u001b[1;33m.\u001b[0m\u001b[0mhead\u001b[0m\u001b[1;33m(\u001b[0m\u001b[1;33m)\u001b[0m\u001b[1;33m\u001b[0m\u001b[0m\n",
      "\u001b[0;32m<ipython-input-30-e55868d0f916>\u001b[0m in \u001b[0;36mselectfunc\u001b[0;34m(ip_for, verbose, entity)\u001b[0m\n\u001b[1;32m     10\u001b[0m         \u001b[1;31m#cur.execute('select * from gnuser')\u001b[0m\u001b[1;33m\u001b[0m\u001b[1;33m\u001b[0m\u001b[0m\n\u001b[1;32m     11\u001b[0m         \u001b[1;31m#cur.execute(\"select to_char(discharge_datetime,'rrrr-mm') from fdepisode fe\")\u001b[0m\u001b[1;33m\u001b[0m\u001b[1;33m\u001b[0m\u001b[0m\n\u001b[0;32m---> 12\u001b[0;31m         \u001b[0mcur\u001b[0m\u001b[1;33m.\u001b[0m\u001b[0mexecute\u001b[0m\u001b[1;33m(\u001b[0m\u001b[1;34m\"select gl.acc_period, gga.GLACCOUNT_DESCRIPTION, sum(decode(dc_marker,'D',amount,-amount)) AMOUNT from gl_post_full gl, gnglaccount gga, journalentry je, boepisodeaccounttxn beat, gnchargeitem gci where gl.account_code = gga.glaccount_code and to_number(gl.filler2) = je.journalentry_id and je.BOEPISODEACCOUNTTXN_ID = beat.BOEPISODEACCOUNTTXN_ID  and beat.GNTXNCODE_ID = gci.GNTXNCODE_ID and gci.CHARGE_GROUP <> '2' and journal_type = 'HISR' and account_code like '1406%' and acc_period >= '2016001' group by gl.acc_period, gga.GLACCOUNT_DESCRIPTION\"\u001b[0m\u001b[1;33m)\u001b[0m\u001b[1;33m\u001b[0m\u001b[0m\n\u001b[0m\u001b[1;32m     13\u001b[0m         \u001b[0mcurdescription\u001b[0m \u001b[1;33m=\u001b[0m \u001b[0mpd\u001b[0m\u001b[1;33m.\u001b[0m\u001b[0mSeries\u001b[0m\u001b[1;33m(\u001b[0m\u001b[0mcur\u001b[0m\u001b[1;33m.\u001b[0m\u001b[0mdescription\u001b[0m\u001b[1;33m)\u001b[0m\u001b[1;33m\u001b[0m\u001b[0m\n\u001b[1;32m     14\u001b[0m         \u001b[0mdf_temp\u001b[0m \u001b[1;33m=\u001b[0m \u001b[0mpd\u001b[0m\u001b[1;33m.\u001b[0m\u001b[0mDataFrame\u001b[0m\u001b[1;33m(\u001b[0m\u001b[0mcur\u001b[0m\u001b[1;33m.\u001b[0m\u001b[0mfetchall\u001b[0m\u001b[1;33m(\u001b[0m\u001b[1;33m)\u001b[0m\u001b[1;33m,\u001b[0m\u001b[0mcolumns\u001b[0m\u001b[1;33m=\u001b[0m\u001b[0mcurdescription\u001b[0m\u001b[1;33m.\u001b[0m\u001b[0mapply\u001b[0m\u001b[1;33m(\u001b[0m\u001b[1;32mlambda\u001b[0m \u001b[0mx\u001b[0m\u001b[1;33m:\u001b[0m \u001b[0mx\u001b[0m\u001b[1;33m[\u001b[0m\u001b[1;36m0\u001b[0m\u001b[1;33m]\u001b[0m\u001b[1;33m)\u001b[0m\u001b[1;33m)\u001b[0m\u001b[1;33m\u001b[0m\u001b[0m\n",
      "\u001b[0;31mOperationalError\u001b[0m: ORA-03113: end-of-file on communication channel\nProcess ID: 45932\nSession ID: 2207 Serial number: 5579\n"
     ]
    }
   ],
   "source": [
    "### Usage \n",
    "## df = selectfunc(ip, verbose)\n",
    "\n",
    "df = selectfunc(ip_live,1)\n",
    "df.head()"
   ]
  },
  {
   "cell_type": "code",
   "execution_count": 25,
   "metadata": {
    "collapsed": true
   },
   "outputs": [],
   "source": [
    "df.to_csv('C:\\OneDrive - Parkway Pantai\\WoRk\\DASHBOARDS\\Revenue by Fin-call and by month\\outputfromquery.csv')"
   ]
  },
  {
   "cell_type": "code",
   "execution_count": 28,
   "metadata": {
    "collapsed": false
   },
   "outputs": [
    {
     "data": {
      "text/plain": [
       "Entity\n",
       "GKK      5562\n",
       "GKL     30459\n",
       "GMH      4159\n",
       "GPG     35768\n",
       "PHA     10372\n",
       "PHAK    28640\n",
       "PHBP    16935\n",
       "PHC     18144\n",
       "PHI     26836\n",
       "PHK     13233\n",
       "PHKL    38453\n",
       "PHM      4342\n",
       "PHP     17287\n",
       "PHSP    11700\n",
       "Name: DISCHARGE_MONTH, dtype: int64"
      ]
     },
     "execution_count": 28,
     "metadata": {},
     "output_type": "execute_result"
    }
   ],
   "source": [
    "df.groupby(by='Entity').count()"
   ]
  }
 ],
 "metadata": {
  "kernelspec": {
   "display_name": "Python 2",
   "language": "python",
   "name": "python2"
  },
  "language_info": {
   "codemirror_mode": {
    "name": "ipython",
    "version": 2
   },
   "file_extension": ".py",
   "mimetype": "text/x-python",
   "name": "python",
   "nbconvert_exporter": "python",
   "pygments_lexer": "ipython2",
   "version": "2.7.13"
  }
 },
 "nbformat": 4,
 "nbformat_minor": 2
}
