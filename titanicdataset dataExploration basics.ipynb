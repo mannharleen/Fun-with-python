{
 "cells": [
  {
   "cell_type": "code",
   "execution_count": 409,
   "metadata": {
    "collapsed": true
   },
   "outputs": [],
   "source": [
    "import pandas as pd\n",
    "import matplotlib.pyplot as plt\n",
    "import seaborn as sns\n",
    "%matplotlib inline\n",
    "import numpy as np\n",
    "np.set_printoptions(threshold=1000)\n",
    "np.set_printoptions(precision=5)\n",
    "np.set_printoptions(suppress=True)"
   ]
  },
  {
   "cell_type": "code",
   "execution_count": 193,
   "metadata": {
    "collapsed": false
   },
   "outputs": [
    {
     "name": "stdout",
     "output_type": "stream",
     "text": [
      "data_train shape (891, 12)\n",
      "data shape (1309, 12)\n"
     ]
    },
    {
     "data": {
      "text/html": [
       "<div>\n",
       "<table border=\"1\" class=\"dataframe\">\n",
       "  <thead>\n",
       "    <tr style=\"text-align: right;\">\n",
       "      <th></th>\n",
       "      <th>Age</th>\n",
       "      <th>Cabin</th>\n",
       "      <th>Embarked</th>\n",
       "      <th>Fare</th>\n",
       "      <th>Name</th>\n",
       "      <th>Parch</th>\n",
       "      <th>PassengerId</th>\n",
       "      <th>Pclass</th>\n",
       "      <th>Sex</th>\n",
       "      <th>SibSp</th>\n",
       "      <th>Survived</th>\n",
       "      <th>Ticket</th>\n",
       "    </tr>\n",
       "  </thead>\n",
       "  <tbody>\n",
       "    <tr>\n",
       "      <th>0</th>\n",
       "      <td>22.0</td>\n",
       "      <td>NaN</td>\n",
       "      <td>S</td>\n",
       "      <td>7.2500</td>\n",
       "      <td>Braund, Mr. Owen Harris</td>\n",
       "      <td>0</td>\n",
       "      <td>1</td>\n",
       "      <td>3</td>\n",
       "      <td>male</td>\n",
       "      <td>1</td>\n",
       "      <td>0.0</td>\n",
       "      <td>A/5 21171</td>\n",
       "    </tr>\n",
       "    <tr>\n",
       "      <th>1</th>\n",
       "      <td>38.0</td>\n",
       "      <td>C85</td>\n",
       "      <td>C</td>\n",
       "      <td>71.2833</td>\n",
       "      <td>Cumings, Mrs. John Bradley (Florence Briggs Th...</td>\n",
       "      <td>0</td>\n",
       "      <td>2</td>\n",
       "      <td>1</td>\n",
       "      <td>female</td>\n",
       "      <td>1</td>\n",
       "      <td>1.0</td>\n",
       "      <td>PC 17599</td>\n",
       "    </tr>\n",
       "    <tr>\n",
       "      <th>2</th>\n",
       "      <td>26.0</td>\n",
       "      <td>NaN</td>\n",
       "      <td>S</td>\n",
       "      <td>7.9250</td>\n",
       "      <td>Heikkinen, Miss. Laina</td>\n",
       "      <td>0</td>\n",
       "      <td>3</td>\n",
       "      <td>3</td>\n",
       "      <td>female</td>\n",
       "      <td>0</td>\n",
       "      <td>1.0</td>\n",
       "      <td>STON/O2. 3101282</td>\n",
       "    </tr>\n",
       "    <tr>\n",
       "      <th>3</th>\n",
       "      <td>35.0</td>\n",
       "      <td>C123</td>\n",
       "      <td>S</td>\n",
       "      <td>53.1000</td>\n",
       "      <td>Futrelle, Mrs. Jacques Heath (Lily May Peel)</td>\n",
       "      <td>0</td>\n",
       "      <td>4</td>\n",
       "      <td>1</td>\n",
       "      <td>female</td>\n",
       "      <td>1</td>\n",
       "      <td>1.0</td>\n",
       "      <td>113803</td>\n",
       "    </tr>\n",
       "    <tr>\n",
       "      <th>4</th>\n",
       "      <td>35.0</td>\n",
       "      <td>NaN</td>\n",
       "      <td>S</td>\n",
       "      <td>8.0500</td>\n",
       "      <td>Allen, Mr. William Henry</td>\n",
       "      <td>0</td>\n",
       "      <td>5</td>\n",
       "      <td>3</td>\n",
       "      <td>male</td>\n",
       "      <td>0</td>\n",
       "      <td>0.0</td>\n",
       "      <td>373450</td>\n",
       "    </tr>\n",
       "  </tbody>\n",
       "</table>\n",
       "</div>"
      ],
      "text/plain": [
       "    Age Cabin Embarked     Fare  \\\n",
       "0  22.0   NaN        S   7.2500   \n",
       "1  38.0   C85        C  71.2833   \n",
       "2  26.0   NaN        S   7.9250   \n",
       "3  35.0  C123        S  53.1000   \n",
       "4  35.0   NaN        S   8.0500   \n",
       "\n",
       "                                                Name  Parch  PassengerId  \\\n",
       "0                            Braund, Mr. Owen Harris      0            1   \n",
       "1  Cumings, Mrs. John Bradley (Florence Briggs Th...      0            2   \n",
       "2                             Heikkinen, Miss. Laina      0            3   \n",
       "3       Futrelle, Mrs. Jacques Heath (Lily May Peel)      0            4   \n",
       "4                           Allen, Mr. William Henry      0            5   \n",
       "\n",
       "   Pclass     Sex  SibSp  Survived            Ticket  \n",
       "0       3    male      1       0.0         A/5 21171  \n",
       "1       1  female      1       1.0          PC 17599  \n",
       "2       3  female      0       1.0  STON/O2. 3101282  \n",
       "3       1  female      1       1.0            113803  \n",
       "4       3    male      0       0.0            373450  "
      ]
     },
     "execution_count": 193,
     "metadata": {},
     "output_type": "execute_result"
    }
   ],
   "source": [
    "#combining train csv and test csv\n",
    "data_train = pd.read_csv(r'C:\\OneDrive - Parkway Pantai\\WoRk\\Pet projects\\Jupyter notebook\\Titanic dataset\\train.csv')\n",
    "print 'data_train shape', data_train.shape\n",
    "data_test = pd.read_csv(r'C:\\OneDrive - Parkway Pantai\\WoRk\\Pet projects\\Jupyter notebook\\Titanic dataset\\test.csv')\n",
    "data = pd.concat([data_train,data_test])\n",
    "print 'data shape',data.shape\n",
    "data.head()"
   ]
  },
  {
   "cell_type": "code",
   "execution_count": 65,
   "metadata": {
    "collapsed": false
   },
   "outputs": [
    {
     "name": "stdout",
     "output_type": "stream",
     "text": [
      "<class 'pandas.core.frame.DataFrame'>\n",
      "Int64Index: 1309 entries, 0 to 417\n",
      "Data columns (total 12 columns):\n",
      "Age            1046 non-null float64\n",
      "Cabin          295 non-null object\n",
      "Embarked       1307 non-null object\n",
      "Fare           1308 non-null float64\n",
      "Name           1309 non-null object\n",
      "Parch          1309 non-null int64\n",
      "PassengerId    1309 non-null int64\n",
      "Pclass         1309 non-null int64\n",
      "Sex            1309 non-null object\n",
      "SibSp          1309 non-null int64\n",
      "Survived       891 non-null float64\n",
      "Ticket         1309 non-null object\n",
      "dtypes: float64(3), int64(4), object(5)\n",
      "memory usage: 132.9+ KB\n",
      "None\n"
     ]
    }
   ],
   "source": [
    "#Checking the highlevel data disctionary as read by pandas\n",
    "print data.info()"
   ]
  },
  {
   "cell_type": "code",
   "execution_count": 52,
   "metadata": {
    "collapsed": false
   },
   "outputs": [
    {
     "name": "stdout",
     "output_type": "stream",
     "text": [
      "      Age Cabin Embarked     Fare  \\\n",
      "1    38.0   C85        C  71.2833   \n",
      "234  39.0   C85        C  71.2833   \n",
      "\n",
      "                                                  Name  Parch  PassengerId  \\\n",
      "1    Cumings, Mrs. John Bradley (Florence Briggs Th...      0            2   \n",
      "234                          Cumings, Mr. John Bradley      0         1126   \n",
      "\n",
      "     Pclass     Sex  SibSp  Survived    Ticket  \n",
      "1         1  female      1       1.0  PC 17599  \n",
      "234       1    male      1       NaN  PC 17599  \n",
      "________________________________________\n",
      "      Age Cabin Embarked    Fare                       Name  Parch  \\\n",
      "0    22.0   NaN        S  7.2500    Braund, Mr. Owen Harris      0   \n",
      "477  29.0   NaN        S  7.0458  Braund, Mr. Lewis Richard      0   \n",
      "\n",
      "     PassengerId  Pclass   Sex  SibSp  Survived     Ticket  \n",
      "0              1       3  male      1       0.0  A/5 21171  \n",
      "477          478       3  male      1       0.0       3460  \n",
      "________________________________________\n",
      "Pclass\n",
      "1     46\n",
      "2    240\n",
      "3    488\n",
      "Name: Age, dtype: int64\n",
      "________________________________________\n",
      "Pclass\n",
      "1    238\n",
      "2     21\n",
      "3     13\n",
      "Name: Age, dtype: int64\n",
      "________________________________________\n"
     ]
    }
   ],
   "source": [
    "# prelim data exploration\n",
    "\n",
    "#Chk if each SibSp also have tickets\n",
    "print data[data.Name.str.contains('Cumings')]\n",
    "#result - yes \n",
    "print '_'*40\n",
    "## couples may not be male and female pairs eg:\n",
    "print data[data.Name.str.contains('Braund')]\n",
    "print '_'*40\n",
    "#I noticed that many cabins were nulls, so lets see if there is a correlation btwn 'cabin' and 'Pclass (ticket class)'\n",
    "print data[(data.Cabin.isnull())].groupby('Pclass')['Age'].count()\n",
    "print '_'*40\n",
    "# result - no correlation\n",
    "print data[(data.Cabin.notnull())].groupby('Pclass')['Age'].count()\n",
    "print '_'*40\n",
    "# result - no correlation"
   ]
  },
  {
   "cell_type": "code",
   "execution_count": 55,
   "metadata": {
    "collapsed": false
   },
   "outputs": [
    {
     "name": "stdout",
     "output_type": "stream",
     "text": [
      "              Cabin Embarked                  Name   Sex    Ticket\n",
      "count           295     1307                  1309  1309      1309\n",
      "unique          186        3                  1307     2       929\n",
      "top     C23 C25 C27        S  Connolly, Miss. Kate  male  CA. 2343\n",
      "freq              6      914                     2   843        11\n",
      "________________________________________\n",
      "Some observations here (keeping in mind that total no of rows = 1309) -\n",
      "1. A lot of missing values in cabin\n",
      "2. 2 missing values in embarked\n",
      "3. No missing values in Name column. But hold on - 1 name is occuring 2 times!!- needs to be investigated\n",
      "4. No missing values. No transgenders. 843/1309 were males i.e. the majority\n",
      "5. No missing values. It seems 929 groups(could be families/friends) were travelling on titanic. Max grp size was 11\n"
     ]
    }
   ],
   "source": [
    "#exploration on discreet (non-continuous) features - can be categorical or ordinal\n",
    "print data.describe(include=['O'])\n",
    "print '_'*40\n",
    "print 'Some observations here (keeping in mind that total no of rows = 1309) -'\n",
    "print '1. A lot of missing values in cabin'\n",
    "print '2. 2 missing values in embarked'\n",
    "print '3. No missing values in Name column. But hold on - 1 name is occuring 2 times!!- needs to be investigated'\n",
    "print '4. No missing values. No transgenders. 843/1309 were males i.e. the majority'\n",
    "print '5. No missing values. It seems 929 groups(could be families/friends) were travelling on titanic. Max grp size was 11'"
   ]
  },
  {
   "cell_type": "code",
   "execution_count": 59,
   "metadata": {
    "collapsed": false
   },
   "outputs": [
    {
     "name": "stdout",
     "output_type": "stream",
     "text": [
      "      Age Cabin Embarked    Fare                  Name  Parch  PassengerId  \\\n",
      "289  22.0   NaN        Q  7.7500  Connolly, Miss. Kate      0          290   \n",
      "6    30.0   NaN        Q  7.6292  Connolly, Miss. Kate      0          898   \n",
      "\n",
      "     Pclass     Sex  SibSp  Survived  Ticket  \n",
      "289       3  female      0       1.0  370373  \n",
      "6         3  female      0       NaN  330972  \n",
      "________________________________________\n",
      "Observation: At first I was wondering whether this was a duplicate row, but since the ticket numbers are different, I can assume that these 2 people with the same name are indeed different people\n"
     ]
    }
   ],
   "source": [
    "#investigate the name column with same value\n",
    "print data[data.Name == 'Connolly, Miss. Kate']\n",
    "print '_'*40\n",
    "print 'Observation: At first I was wondering whether this was a duplicate row, but since the ticket numbers are different, I can assume that these 2 people with the same name are indeed different people'\n"
   ]
  },
  {
   "cell_type": "code",
   "execution_count": 75,
   "metadata": {
    "collapsed": false
   },
   "outputs": [
    {
     "name": "stdout",
     "output_type": "stream",
     "text": [
      "               Age         Fare        Parch  PassengerId       Pclass  \\\n",
      "count  1046.000000  1308.000000  1309.000000  1309.000000  1309.000000   \n",
      "mean     29.881138    33.295479     0.385027   655.000000     2.294882   \n",
      "std      14.413493    51.758668     0.865560   378.020061     0.837836   \n",
      "min       0.170000     0.000000     0.000000     1.000000     1.000000   \n",
      "25%      21.000000     7.895800     0.000000   328.000000     2.000000   \n",
      "50%      28.000000    14.454200     0.000000   655.000000     3.000000   \n",
      "75%      39.000000    31.275000     0.000000   982.000000     3.000000   \n",
      "max      80.000000   512.329200     9.000000  1309.000000     3.000000   \n",
      "\n",
      "             SibSp    Survived  \n",
      "count  1309.000000  891.000000  \n",
      "mean      0.498854    0.383838  \n",
      "std       1.041658    0.486592  \n",
      "min       0.000000    0.000000  \n",
      "25%       0.000000    0.000000  \n",
      "50%       0.000000    0.000000  \n",
      "75%       1.000000    1.000000  \n",
      "max       8.000000    1.000000  \n",
      "________________________________________\n",
      "Some observations here (keeping in mind that total no of rows = 1309) -\n",
      "1. Age: has missing values, no visible outliers. Addn: a <2 month baby was onboard (I pray that he/she survived)\n",
      "2. Fare: has 1 missing value. some outliers\n",
      "3. Parch: Is a ORDINAL variable\n",
      "3. PassengerId: Is a CATEGORICAL variable\n",
      "4. Pclass: Is a ORDINAL variable\n",
      "5. SibSp: Is a ORDINAL variable\n",
      "6. Survived: Is a ORDINAL variable. Has 891 values referring to our test data size\n"
     ]
    }
   ],
   "source": [
    "#exploration on continuous features\n",
    "print data.describe()\n",
    "print '_'*40\n",
    "print 'Some observations here (keeping in mind that total no of rows = 1309) -'\n",
    "print '1. Age: has missing values, no visible outliers. Addn: a <2 month baby was onboard (I pray that he/she survived)'\n",
    "print '2. Fare: has 1 missing value. some outliers'\n",
    "print '3. Parch: Is a ORDINAL variable'\n",
    "print '3. PassengerId: Is a CATEGORICAL variable'\n",
    "print '4. Pclass: Is a ORDINAL variable'\n",
    "print '5. SibSp: Is a ORDINAL variable'\n",
    "print '6. Survived: Is a ORDINAL variable. Has 891 values referring to our test data size'"
   ]
  },
  {
   "cell_type": "code",
   "execution_count": 74,
   "metadata": {
    "collapsed": false
   },
   "outputs": [
    {
     "name": "stdout",
     "output_type": "stream",
     "text": [
      "Number of babies under age 1 grouped by survived\n",
      "Survived\n",
      "1.0    7\n",
      "Name: Age, dtype: int64\n",
      "________________________________________\n",
      "Observation: There were 7 infants under age 1 and all of them surivived!! yipee!!\n"
     ]
    }
   ],
   "source": [
    "#checking on survival of all babies for humanitarian sake\n",
    "print 'Number of babies under age 1 grouped by survived'\n",
    "print data[data.Age<1].groupby('Survived')['Age'].count()\n",
    "print '_'*40\n",
    "print 'Observation: There were 7 infants under age 1 and all of them surivived!! yipee!!'"
   ]
  },
  {
   "cell_type": "code",
   "execution_count": 101,
   "metadata": {
    "collapsed": false
   },
   "outputs": [],
   "source": [
    "#Categorizing our features\n",
    "ordinal_features = ['Parch','Pclass','SibSp']\n",
    "continuous_features = ['Age','Fare',]\n",
    "categorical_features = ['Cabin','Embarked','Name','Sex','Ticket','PassengerId']"
   ]
  },
  {
   "cell_type": "code",
   "execution_count": 195,
   "metadata": {
    "collapsed": false
   },
   "outputs": [
    {
     "name": "stdout",
     "output_type": "stream",
     "text": [
      "Missing values for ordinal features\n",
      "Parch     0\n",
      "Pclass    0\n",
      "SibSp     0\n",
      "dtype: int64\n",
      "________________________________________\n",
      "Missing values for continuous features\n",
      "Age     263\n",
      "Fare      1\n",
      "dtype: int64\n",
      "________________________________________\n",
      "Missing values for categorical features\n",
      "Cabin          1014\n",
      "Embarked          2\n",
      "Name              0\n",
      "Sex               0\n",
      "Ticket            0\n",
      "PassengerId       0\n",
      "dtype: int64\n",
      "________________________________________\n"
     ]
    }
   ],
   "source": [
    "#formalizing the missing values\n",
    "\n",
    "print 'Missing values for ordinal features'\n",
    "print data[ordinal_features].isnull().sum()\n",
    "print '_'*40\n",
    "print 'Missing values for continuous features'\n",
    "print data[continuous_features].isnull().sum()\n",
    "print '_'*40\n",
    "print 'Missing values for categorical features'\n",
    "print data[categorical_features].isnull().sum()\n",
    "print '_'*40"
   ]
  },
  {
   "cell_type": "code",
   "execution_count": 251,
   "metadata": {
    "collapsed": false,
    "scrolled": true
   },
   "outputs": [
    {
     "name": "stdout",
     "output_type": "stream",
     "text": [
      "0\n"
     ]
    },
    {
     "data": {
      "image/png": "[encoded data removed]",
      "text/plain": [
       "<matplotlib.figure.Figure at 0x2555d400>"
      ]
     },
     "metadata": {},
     "output_type": "display_data"
    }
   ],
   "source": [
    "#Missing value treatment\n",
    "\n",
    "#--------------------\n",
    "# Cabin: I am going to drop the Cabin column since it has too many missing value i.e. 1014/1309 = 77% missing\n",
    "data_new = data.drop('Cabin', axis=1)\n",
    "#--------------------\n",
    "# Embarked:\n",
    "data_new[data_new.Embarked.isnull()]\n",
    "#Inference: The two have the same ticket number, so we can assume that they embarked together. I will impute the mode value here\n",
    "data_new.Embarked.fillna(data_new['Embarked'].mode()[0], inplace=True)\n",
    "\n",
    "#--------------------\n",
    "#Fare: I am imputing with the mean of the fare of similar passenger\n",
    "data_new.Fare.fillna(data_new[(data_new.Embarked == 'S')& (data_new.Age>40) & (data_new.Pclass == 3) & (data_new.Sex == 'male')  \\\n",
    "         & (data_new.Fare.notnull())].Fare.mean(), inplace=True)\n",
    "#--------------------\n",
    "#Age:\n",
    "data_new[data_new.Age.isnull()]\n",
    "sns.distplot(data_new[data_new.Age.notnull()].Age)\n",
    "# We observe that the distrubtion has a good central tendancy. We will thus impute mode to the value of age\n",
    "data_new.Age.fillna(data_new.Age.mode()[0],inplace=True)\n",
    "print data_new['Age'].isnull().sum()"
   ]
  },
  {
   "cell_type": "code",
   "execution_count": 252,
   "metadata": {
    "collapsed": false
   },
   "outputs": [
    {
     "name": "stdout",
     "output_type": "stream",
     "text": [
      "Missing values for ordinal features\n",
      "Parch     0\n",
      "Pclass    0\n",
      "SibSp     0\n",
      "dtype: int64\n",
      "________________________________________\n",
      "Missing values for continuous features\n",
      "Age     0\n",
      "Fare    0\n",
      "dtype: int64\n",
      "________________________________________\n",
      "Missing values for categorical features\n",
      "Embarked       0\n",
      "Name           0\n",
      "Sex            0\n",
      "Ticket         0\n",
      "PassengerId    0\n",
      "dtype: int64\n",
      "________________________________________\n"
     ]
    }
   ],
   "source": [
    "#Rechecking the missing values\n",
    "\n",
    "categorical_features = ['Embarked','Name','Sex','Ticket','PassengerId']\n",
    "\n",
    "print 'Missing values for ordinal features'\n",
    "print data_new[ordinal_features].isnull().sum()\n",
    "print '_'*40\n",
    "print 'Missing values for continuous features'\n",
    "print data_new[continuous_features].isnull().sum()\n",
    "print '_'*40\n",
    "print 'Missing values for categorical features'\n",
    "print data_new[categorical_features].isnull().sum()\n",
    "print '_'*40\n",
    "# All good as far as imputation is concerned"
   ]
  },
  {
   "cell_type": "code",
   "execution_count": 298,
   "metadata": {
    "collapsed": false
   },
   "outputs": [
    {
     "data": {
      "text/html": [
       "<div>\n",
       "<table border=\"1\" class=\"dataframe\">\n",
       "  <thead>\n",
       "    <tr style=\"text-align: right;\">\n",
       "      <th></th>\n",
       "      <th>Age</th>\n",
       "      <th>Fare</th>\n",
       "      <th>Parch</th>\n",
       "      <th>PassengerId</th>\n",
       "      <th>Pclass</th>\n",
       "      <th>SibSp</th>\n",
       "      <th>Survived</th>\n",
       "      <th>Embarked_C</th>\n",
       "      <th>Embarked_Q</th>\n",
       "      <th>Embarked_S</th>\n",
       "      <th>Sex_male</th>\n",
       "      <th>Ticket_code</th>\n",
       "    </tr>\n",
       "  </thead>\n",
       "  <tbody>\n",
       "    <tr>\n",
       "      <th>0</th>\n",
       "      <td>22.0</td>\n",
       "      <td>7.2500</td>\n",
       "      <td>0</td>\n",
       "      <td>1</td>\n",
       "      <td>3</td>\n",
       "      <td>1</td>\n",
       "      <td>0.0</td>\n",
       "      <td>0</td>\n",
       "      <td>0</td>\n",
       "      <td>1</td>\n",
       "      <td>1</td>\n",
       "      <td>720</td>\n",
       "    </tr>\n",
       "    <tr>\n",
       "      <th>1</th>\n",
       "      <td>38.0</td>\n",
       "      <td>71.2833</td>\n",
       "      <td>0</td>\n",
       "      <td>2</td>\n",
       "      <td>1</td>\n",
       "      <td>1</td>\n",
       "      <td>1.0</td>\n",
       "      <td>1</td>\n",
       "      <td>0</td>\n",
       "      <td>0</td>\n",
       "      <td>0</td>\n",
       "      <td>816</td>\n",
       "    </tr>\n",
       "    <tr>\n",
       "      <th>2</th>\n",
       "      <td>26.0</td>\n",
       "      <td>7.9250</td>\n",
       "      <td>0</td>\n",
       "      <td>3</td>\n",
       "      <td>3</td>\n",
       "      <td>0</td>\n",
       "      <td>1.0</td>\n",
       "      <td>0</td>\n",
       "      <td>0</td>\n",
       "      <td>1</td>\n",
       "      <td>0</td>\n",
       "      <td>914</td>\n",
       "    </tr>\n",
       "  </tbody>\n",
       "</table>\n",
       "</div>"
      ],
      "text/plain": [
       "    Age     Fare  Parch  PassengerId  Pclass  SibSp  Survived  Embarked_C  \\\n",
       "0  22.0   7.2500      0            1       3      1       0.0           0   \n",
       "1  38.0  71.2833      0            2       1      1       1.0           1   \n",
       "2  26.0   7.9250      0            3       3      0       1.0           0   \n",
       "\n",
       "   Embarked_Q  Embarked_S  Sex_male  Ticket_code  \n",
       "0           0           1         1          720  \n",
       "1           0           0         0          816  \n",
       "2           0           1         0          914  "
      ]
     },
     "execution_count": 298,
     "metadata": {},
     "output_type": "execute_result"
    }
   ],
   "source": [
    "#Label encoding for Tickets\n",
    "data_new1 = pd.get_dummies(data_new, columns=['Embarked', 'Sex']).drop(['Sex_female'], axis=1)\n",
    "data_new1['Ticket_code'] = pd.Series(pd.Categorical(data_new1['Ticket']).codes)\n",
    "data_new2 = data_new1.drop(['Ticket','Name'], axis=1)\n",
    "\n",
    "data_new2.head(3)"
   ]
  },
  {
   "cell_type": "code",
   "execution_count": 327,
   "metadata": {
    "collapsed": false
   },
   "outputs": [],
   "source": [
    "# Convert pd df to np array\n",
    "X_train = data_new2.head(data_train.shape[0]).drop('Survived', axis=1)\n",
    "X_test = data_new2.tail(data_test.shape[0]).drop('Survived', axis=1)\n",
    "Y_train = data_new2.head(data_train.shape[0]).Survived\n",
    "#print data_new2.as_matrix()"
   ]
  },
  {
   "cell_type": "code",
   "execution_count": 337,
   "metadata": {
    "collapsed": true
   },
   "outputs": [],
   "source": [
    "#Import sklearn libraries\n",
    "from sklearn.neighbors import KNeighborsClassifier\n",
    "from sklearn.model_selection import RandomizedSearchCV\n"
   ]
  },
  {
   "cell_type": "code",
   "execution_count": 346,
   "metadata": {
    "collapsed": false
   },
   "outputs": [
    {
     "name": "stdout",
     "output_type": "stream",
     "text": [
      "KNN :-\n",
      "0.668911335578\n",
      "KNeighborsClassifier(algorithm='auto', leaf_size=30, metric='minkowski',\n",
      "           metric_params=None, n_jobs=1, n_neighbors=34, p=2,\n",
      "           weights='uniform')\n"
     ]
    }
   ],
   "source": [
    "# Lets try a few classification models here\n",
    "KNN = KNeighborsClassifier()\n",
    "param = {'n_neighbors':range(1,150)}\n",
    "rscv = RandomizedSearchCV(KNN,param, n_iter=100, cv=10)\n",
    "rscv.fit(X_train,Y_train)\n",
    "print 'KNN :-'\n",
    "print rscv.best_score_\n",
    "print rscv.best_estimator_"
   ]
  },
  {
   "cell_type": "code",
   "execution_count": 345,
   "metadata": {
    "collapsed": false
   },
   "outputs": [
    {
     "name": "stdout",
     "output_type": "stream",
     "text": [
      "LR :-\n",
      "0.79797979798\n",
      "LogisticRegression(C=0.39610000000000001, class_weight=None, dual=False,\n",
      "          fit_intercept=True, intercept_scaling=1, max_iter=100,\n",
      "          multi_class='ovr', n_jobs=1, penalty='l2', random_state=None,\n",
      "          solver='liblinear', tol=0.0001, verbose=0, warm_start=False)\n"
     ]
    }
   ],
   "source": [
    "from sklearn.linear_model import LogisticRegression\n",
    "LR = LogisticRegression()\n",
    "param = {'C':np.arange(.0001,1,.001)}\n",
    "rscv = RandomizedSearchCV(LR,param, n_iter=15, cv=10)\n",
    "rscv.fit(X_train,Y_train)\n",
    "print 'LR :-'\n",
    "print rscv.best_score_\n",
    "print rscv.best_estimator_"
   ]
  },
  {
   "cell_type": "code",
   "execution_count": 391,
   "metadata": {
    "collapsed": false
   },
   "outputs": [
    {
     "name": "stdout",
     "output_type": "stream",
     "text": [
      "LogisticRegression(C=0.3961, class_weight=None, dual=False,\n",
      "          fit_intercept=True, intercept_scaling=1, max_iter=100,\n",
      "          multi_class='ovr', n_jobs=1, penalty='l1', random_state=None,\n",
      "          solver='liblinear', tol=0.0001, verbose=0, warm_start=False)\n"
     ]
    },
    {
     "data": {
      "text/plain": [
       "[<matplotlib.lines.Line2D at 0x25218470>]"
      ]
     },
     "execution_count": 391,
     "metadata": {},
     "output_type": "execute_result"
    },
    {
     "data": {
      "image/png": "[encoded data removed]",
      "text/plain": [
       "<matplotlib.figure.Figure at 0x24fc1438>"
      ]
     },
     "metadata": {},
     "output_type": "display_data"
    }
   ],
   "source": [
    "from sklearn.model_selection import learning_curve\n",
    "#C=0.3961\n",
    "LR = LogisticRegression(C=0.3961, solver='liblinear', max_iter=100, penalty='l1')\n",
    "train_sizes, train_scores, test_scores = learning_curve(LR, X_train, Y_train, cv=10, scoring='f1', \\\n",
    "                                                        train_sizes=np.arange(.1,1,.1))\n",
    "\n",
    "print LR\n",
    "\n",
    "plt.title('Learning curve')\n",
    "plt.plot(train_sizes, train_scores.mean(axis=1), color='red')\n",
    "plt.plot(train_sizes, test_scores.mean(axis=1), color = 'blue')"
   ]
  },
  {
   "cell_type": "code",
   "execution_count": 458,
   "metadata": {
    "collapsed": false
   },
   "outputs": [
    {
     "data": {
      "text/html": [
       "<div>\n",
       "<table border=\"1\" class=\"dataframe\">\n",
       "  <thead>\n",
       "    <tr style=\"text-align: right;\">\n",
       "      <th></th>\n",
       "      <th>0</th>\n",
       "      <th>1</th>\n",
       "      <th>2</th>\n",
       "    </tr>\n",
       "  </thead>\n",
       "  <tbody>\n",
       "    <tr>\n",
       "      <th>9</th>\n",
       "      <td>Sex_male</td>\n",
       "      <td>-2.532820</td>\n",
       "      <td>-2.318103</td>\n",
       "    </tr>\n",
       "    <tr>\n",
       "      <th>4</th>\n",
       "      <td>Pclass</td>\n",
       "      <td>-0.760222</td>\n",
       "      <td>-0.597303</td>\n",
       "    </tr>\n",
       "    <tr>\n",
       "      <th>5</th>\n",
       "      <td>SibSp</td>\n",
       "      <td>-0.282014</td>\n",
       "      <td>-0.266206</td>\n",
       "    </tr>\n",
       "    <tr>\n",
       "      <th>2</th>\n",
       "      <td>Parch</td>\n",
       "      <td>-0.069895</td>\n",
       "      <td>-0.073831</td>\n",
       "    </tr>\n",
       "    <tr>\n",
       "      <th>0</th>\n",
       "      <td>Age</td>\n",
       "      <td>-0.027745</td>\n",
       "      <td>-0.021024</td>\n",
       "    </tr>\n",
       "    <tr>\n",
       "      <th>10</th>\n",
       "      <td>Ticket_code</td>\n",
       "      <td>-0.000624</td>\n",
       "      <td>-0.000579</td>\n",
       "    </tr>\n",
       "    <tr>\n",
       "      <th>3</th>\n",
       "      <td>PassengerId</td>\n",
       "      <td>0.000183</td>\n",
       "      <td>0.000318</td>\n",
       "    </tr>\n",
       "    <tr>\n",
       "      <th>1</th>\n",
       "      <td>Fare</td>\n",
       "      <td>0.004778</td>\n",
       "      <td>0.006537</td>\n",
       "    </tr>\n",
       "    <tr>\n",
       "      <th>8</th>\n",
       "      <td>Embarked_S</td>\n",
       "      <td>0.000000</td>\n",
       "      <td>0.601686</td>\n",
       "    </tr>\n",
       "    <tr>\n",
       "      <th>7</th>\n",
       "      <td>Embarked_Q</td>\n",
       "      <td>0.000000</td>\n",
       "      <td>0.706647</td>\n",
       "    </tr>\n",
       "    <tr>\n",
       "      <th>6</th>\n",
       "      <td>Embarked_C</td>\n",
       "      <td>0.298371</td>\n",
       "      <td>0.947418</td>\n",
       "    </tr>\n",
       "  </tbody>\n",
       "</table>\n",
       "</div>"
      ],
      "text/plain": [
       "              0         1         2\n",
       "9      Sex_male -2.532820 -2.318103\n",
       "4        Pclass -0.760222 -0.597303\n",
       "5         SibSp -0.282014 -0.266206\n",
       "2         Parch -0.069895 -0.073831\n",
       "0           Age -0.027745 -0.021024\n",
       "10  Ticket_code -0.000624 -0.000579\n",
       "3   PassengerId  0.000183  0.000318\n",
       "1          Fare  0.004778  0.006537\n",
       "8    Embarked_S  0.000000  0.601686\n",
       "7    Embarked_Q  0.000000  0.706647\n",
       "6    Embarked_C  0.298371  0.947418"
      ]
     },
     "execution_count": 458,
     "metadata": {},
     "output_type": "execute_result"
    }
   ],
   "source": [
    "LR = LogisticRegression(C=0.3961, solver='liblinear', max_iter=100, penalty='l1')\n",
    "LR.fit(X_train, Y_train)\n",
    "coef_1 =  LR.coef_\n",
    "#print pd.DataFrame(coef_1)\n",
    "\n",
    "\n",
    "LR = LogisticRegression(C=0.3961, solver='liblinear', max_iter=100, penalty='l2')\n",
    "LR.fit(X_train, Y_train)\n",
    "coef_2 =  LR.coef_\n",
    "#print data_new2.drop('Survived', axis=1).columns.values\n",
    "\n",
    "pd.DataFrame(zip(data_new2.drop('Survived', axis=1).columns.values, pd.DataFrame(coef_1).loc[0].values.tolist(), \\\n",
    "         pd.DataFrame(coef_2).loc[0].values.tolist())).sort_values(by=2)\n"
   ]
  },
  {
   "cell_type": "code",
   "execution_count": 486,
   "metadata": {
    "collapsed": false
   },
   "outputs": [
    {
     "name": "stdout",
     "output_type": "stream",
     "text": [
      "LogisticRegression(C=0.103, class_weight=None, dual=False, fit_intercept=True,\n",
      "          intercept_scaling=1, max_iter=100, multi_class='ovr', n_jobs=1,\n",
      "          penalty='l2', random_state=None, solver='liblinear', tol=0.0001,\n",
      "          verbose=0, warm_start=False)\n",
      "\n",
      " Best score for test =  0.707251205172\n"
     ]
    },
    {
     "data": {
      "text/plain": [
       "[<matplotlib.lines.Line2D at 0x27fb1b70>]"
      ]
     },
     "execution_count": 486,
     "metadata": {},
     "output_type": "execute_result"
    },
    {
     "data": {
      "image/png": "[encoded data removed]",
      "text/plain": [
       "<matplotlib.figure.Figure at 0x27e7da58>"
      ]
     },
     "metadata": {},
     "output_type": "display_data"
    }
   ],
   "source": [
    "from sklearn.model_selection import learning_curve\n",
    "#C=0.3961\n",
    "LR = LogisticRegression(C=0.103, solver='liblinear', max_iter=100, penalty='l2')\n",
    "train_sizes, train_scores, test_scores = learning_curve(LR, X_train[['Embarked_C','Sex_male','Pclass']], \\\n",
    "                                                        Y_train, cv=20, scoring='f1', \\\n",
    "                                                        train_sizes=np.arange(.1,1,.1))\n",
    "#from l1,l2: 'Embarked_C','Sex_male','Pclass'\n",
    "# from dec tree: ['Age','Fare','PassengerId','Sex_male','Ticket_code']\n",
    "\n",
    "print LR\n",
    "print '\\n Best score for test = ', max(test_scores.mean(axis=1))\n",
    "plt.title('Learning curve')\n",
    "plt.plot(train_sizes, train_scores.mean(axis=1), color='red')\n",
    "plt.plot(train_sizes, test_scores.mean(axis=1), color = 'blue')"
   ]
  },
  {
   "cell_type": "code",
   "execution_count": 529,
   "metadata": {
    "collapsed": false
   },
   "outputs": [
    {
     "name": "stdout",
     "output_type": "stream",
     "text": [
      "LR :-\n",
      "0.70531301522\n",
      "LogisticRegression(C=0.61509999999999998, class_weight=None, dual=False,\n",
      "          fit_intercept=True, intercept_scaling=1, max_iter=100,\n",
      "          multi_class='ovr', n_jobs=1, penalty='l2', random_state=None,\n",
      "          solver='liblinear', tol=0.0001, verbose=0, warm_start=False)\n"
     ]
    }
   ],
   "source": [
    "from sklearn.linear_model import LogisticRegression\n",
    "LR = LogisticRegression()\n",
    "param = {'C':np.arange(.0001,1,.001), 'penalty':['l2']}\n",
    "rscv = RandomizedSearchCV(LR,param, n_iter=50, cv=15, scoring='f1')\n",
    "rscv.fit(X_train[['Age','Fare','PassengerId','Sex_male','Ticket_code']],Y_train)\n",
    "print 'LR :-'\n",
    "print rscv.best_score_\n",
    "print rscv.best_estimator_"
   ]
  },
  {
   "cell_type": "code",
   "execution_count": 536,
   "metadata": {
    "collapsed": false
   },
   "outputs": [
    {
     "name": "stdout",
     "output_type": "stream",
     "text": [
      "0.753742056099\n",
      "RandomForestClassifier(bootstrap=True, class_weight=None, criterion='gini',\n",
      "            max_depth=11, max_features=None, max_leaf_nodes=None,\n",
      "            min_impurity_split=1e-07, min_samples_leaf=1,\n",
      "            min_samples_split=2, min_weight_fraction_leaf=0.0,\n",
      "            n_estimators=10, n_jobs=1, oob_score=False, random_state=None,\n",
      "            verbose=0, warm_start=False)\n"
     ]
    }
   ],
   "source": [
    "from sklearn.ensemble import RandomForestClassifier\n",
    "rfc = RandomForestClassifier()\n",
    "#rfc.fit(X_train, Y_train)\n",
    "param = {'max_depth': range(1,25), 'max_features':['auto',None]}\n",
    "rscv = RandomizedSearchCV(rfc,param, n_iter=9, cv=15, scoring='f1')\n",
    "rscv.fit(X_train,Y_train)\n",
    "print rscv.best_score_\n",
    "print rscv.best_estimator_"
   ]
  },
  {
   "cell_type": "code",
   "execution_count": 538,
   "metadata": {
    "collapsed": false
   },
   "outputs": [
    {
     "name": "stdout",
     "output_type": "stream",
     "text": [
      "\n",
      " Best score for test =  0.747258357189\n"
     ]
    },
    {
     "data": {
      "text/plain": [
       "[<matplotlib.lines.Line2D at 0x28195a90>]"
      ]
     },
     "execution_count": 538,
     "metadata": {},
     "output_type": "execute_result"
    },
    {
     "data": {
      "image/png": "[encoded data removed]",
      "text/plain": [
       "<matplotlib.figure.Figure at 0x27ab6e80>"
      ]
     },
     "metadata": {},
     "output_type": "display_data"
    }
   ],
   "source": [
    "rfc = RandomForestClassifier(max_depth=11,max_features=None)\n",
    "\n",
    "train_sizes, train_scores, test_scores = learning_curve(rfc, X_train, \\\n",
    "                                                        Y_train, cv=20, scoring='f1', \\\n",
    "                                                        train_sizes=np.arange(.1,1,.1))\n",
    "#from l1,l2: 'Embarked_C','Sex_male','Pclass'\n",
    "# from dec tree: ['Age','Fare','PassengerId','Sex_male','Ticket_code']\n",
    "\n",
    "print '\\n Best score for test = ', max(test_scores.mean(axis=1))\n",
    "plt.title('Learning curve for Random forest classifier')\n",
    "plt.plot(train_sizes, train_scores.mean(axis=1), color='red')\n",
    "plt.plot(train_sizes, test_scores.mean(axis=1), color = 'blue')"
   ]
  }
 ],
 "metadata": {
  "kernelspec": {
   "display_name": "Python 2",
   "language": "python",
   "name": "python2"
  },
  "language_info": {
   "codemirror_mode": {
    "name": "ipython",
    "version": 2
   },
   "file_extension": ".py",
   "mimetype": "text/x-python",
   "name": "python",
   "nbconvert_exporter": "python",
   "pygments_lexer": "ipython2",
   "version": "2.7.13"
  }
 },
 "nbformat": 4,
 "nbformat_minor": 2
}
