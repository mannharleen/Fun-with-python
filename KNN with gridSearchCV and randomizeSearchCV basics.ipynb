{
 "cells": [
  {
   "cell_type": "code",
   "execution_count": 24,
   "metadata": {
    "collapsed": true
   },
   "outputs": [],
   "source": [
    "import numpy as np\n",
    "import matplotlib.pyplot as plt\n",
    "from sklearn.datasets import load_iris\n",
    "from sklearn.neighbors import KNeighborsClassifier\n",
    "from sklearn.model_selection import GridSearchCV\n",
    "from sklearn.model_selection import RandomizedSearchCV"
   ]
  },
  {
   "cell_type": "code",
   "execution_count": 7,
   "metadata": {
    "collapsed": true
   },
   "outputs": [],
   "source": [
    "iris = load_iris()\n",
    "X = iris.data\n",
    "y = iris.target\n",
    "KNN = KNeighborsClassifier()"
   ]
  },
  {
   "cell_type": "code",
   "execution_count": 23,
   "metadata": {
    "collapsed": false
   },
   "outputs": [
    {
     "name": "stdout",
     "output_type": "stream",
     "text": [
      "{'n_neighbors': 13}\n",
      "0.98\n"
     ]
    }
   ],
   "source": [
    "#gridSearchCV model\n",
    "param = dict(n_neighbors=list(range(1,21)) )\n",
    "gscv = GridSearchCV(KNN, param, cv=10, scoring='accuracy', n_jobs=1)\n",
    "gscv.fit(X,y)\n",
    "print gscv.best_params_\n",
    "print gscv.best_score_"
   ]
  },
  {
   "cell_type": "code",
   "execution_count": 45,
   "metadata": {
    "collapsed": false
   },
   "outputs": [
    {
     "name": "stdout",
     "output_type": "stream",
     "text": [
      "{'n_neighbors': 15, 'weights': 'distance'}\n",
      "0.98\n"
     ]
    }
   ],
   "source": [
    "#randomSearchCV model\n",
    "param = dict(n_neighbors=range(1,21), weights=['uniform','distance'])\n",
    "rscv = RandomizedSearchCV(KNN,param,n_iter=10,scoring='accuracy',cv=10)\n",
    "rscv.fit(X,y)\n",
    "#print rscv.best_estimator_\n",
    "print rscv.best_params_\n",
    "print rscv.best_score_"
   ]
  }
 ],
 "metadata": {
  "kernelspec": {
   "display_name": "Python 2",
   "language": "python",
   "name": "python2"
  },
  "language_info": {
   "codemirror_mode": {
    "name": "ipython",
    "version": 2
   },
   "file_extension": ".py",
   "mimetype": "text/x-python",
   "name": "python",
   "nbconvert_exporter": "python",
   "pygments_lexer": "ipython2",
   "version": "2.7.13"
  }
 },
 "nbformat": 4,
 "nbformat_minor": 2
}
